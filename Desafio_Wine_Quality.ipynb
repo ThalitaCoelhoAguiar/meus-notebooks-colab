{
  "nbformat": 4,
  "nbformat_minor": 0,
  "metadata": {
    "colab": {
      "provenance": [],
      "authorship_tag": "ABX9TyObQQsIYSMQXuB+764VP+mV",
      "include_colab_link": true
    },
    "kernelspec": {
      "name": "python3",
      "display_name": "Python 3"
    },
    "language_info": {
      "name": "python"
    }
  },
  "cells": [
    {
      "cell_type": "markdown",
      "metadata": {
        "id": "view-in-github",
        "colab_type": "text"
      },
      "source": [
        "<a href=\"https://colab.research.google.com/github/ThalitaCoelhoAguiar/meus-notebooks-colab/blob/main/Desafio_Wine_Quality.ipynb\" target=\"_parent\"><img src=\"https://colab.research.google.com/assets/colab-badge.svg\" alt=\"Open In Colab\"/></a>"
      ]
    },
    {
      "cell_type": "markdown",
      "source": [
        "### Importando o Dataset\n",
        "\n",
        "The two datasets are related to red and white variants of the Portuguese \"Vinho Verde\" wine.\n",
        "\n",
        "inho é particularmente apreciado devido ao seu\n",
        "frescor, especialmente no verão. Com base nisso, foram coletadas as seguintes\n",
        "informações sobre o vinho:\n",
        "1 - acidez fixa (fixed acidity)\n",
        "2 - acidez volátil (volatile acidity)\n",
        "3 - acidez cítrica (citric acidity)\n",
        "4 - açúcar residual (residual sugar)\n",
        "5 - concentração de cloretos (chlorides)\n",
        "6 - concentração de dióxido sulfúrico livre(free sulfur dioxide)\n",
        "7 - concentração total de dióxido sulfúrico (total sulfur dioxide)\n",
        "8 - densidade (density)\n",
        "9 - pH (pH)\n",
        "10 - concentração de sulfatos (sulphates)\n",
        "11 - concentração alcoólica (alcohol)\n",
        "Output (based na avaliação média de especialistas):\n",
        "12 - qualidade (quality) (score entre 0 e 10)\n",
        "\n",
        "\n",
        "*   Importando diretamente do Kaggle\n",
        "* Escolher arquivo kaggle.json"
      ],
      "metadata": {
        "id": "WF0YSOyIrOS3"
      }
    },
    {
      "cell_type": "code",
      "source": [
        "!pip install -q kaggle\n",
        "from google.colab import files"
      ],
      "metadata": {
        "id": "pP9-uxJ4r4b7"
      },
      "execution_count": 1,
      "outputs": []
    }
  ]
}